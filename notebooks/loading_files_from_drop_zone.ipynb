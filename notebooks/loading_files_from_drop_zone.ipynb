{
 "cells": [
  {
   "cell_type": "code",
   "execution_count": 1,
   "metadata": {},
   "outputs": [],
   "source": [
    "import pandas as pd\n",
    "from classes.config import Config\n",
    "from datetime import date\n",
    "import os\n",
    "import shutil\n",
    "import openpyxl\n",
    "from copy import copy\n",
    "\n",
    "\n",
    "#creating variables categories, copy of categories and todays date. To create categories I use class Config \n",
    "# with metods to get path of desired file. To use proper path I have to know the name of file! - Works only for .csv files\n",
    "categories = Config('categories').get_dropzone_path()\n",
    "categories_copy = Config('categories_copy').get_dropzone_path()\n",
    "shutil.copy(categories,categories_copy)\n",
    "today = str(date.today())"
   ]
  },
  {
   "cell_type": "code",
   "execution_count": 2,
   "metadata": {},
   "outputs": [],
   "source": [
    "#Replacing file categories with command rename, I put todays date to the name of file. \n",
    "# To not to lose file categories I made a copy file. Then I make \n",
    "#a back copy and I put it into old file. I remove used copy.\n",
    "os.rename(categories,'C:\\\\Users\\\\1\\\\Documents\\\\filesystem\\\\raw\\\\categories_'+today+'.csv')\n",
    "shutil.copy(categories_copy,categories)\n",
    "os.remove(categories_copy)"
   ]
  },
  {
   "cell_type": "code",
   "execution_count": 4,
   "metadata": {},
   "outputs": [],
   "source": [
    "#Making the whole process again but for another folder \n",
    "categories2 = Config('categories_'+today).get_raw_path()\n",
    "categories_copy2 = Config('categories_copy_'+today).get_raw_path()\n",
    "shutil.copy(categories2,categories_copy2)\n",
    "os.remove(categories_copy2)\n",
    "#Creating variable with .csv file in it\n",
    "file_csv = pd.read_csv(categories2)\n"
   ]
  },
  {
   "cell_type": "code",
   "execution_count": 5,
   "metadata": {},
   "outputs": [],
   "source": [
    "#Changing my .csv file into excel file and changing it's directory. Very nice and simple way without \n",
    "#losing old fle. \n",
    "file_csv.to_excel('C:\\\\Users\\\\1\\\\Documents\\\\filesystem\\\\standarised\\\\categories_'+today+'.xlsx', index = False)"
   ]
  },
  {
   "cell_type": "code",
   "execution_count": null,
   "metadata": {},
   "outputs": [],
   "source": []
  }
 ],
 "metadata": {
  "kernelspec": {
   "display_name": "Python 3.10.8 ('PandasETL': venv)",
   "language": "python",
   "name": "python3"
  },
  "language_info": {
   "codemirror_mode": {
    "name": "ipython",
    "version": 3
   },
   "file_extension": ".py",
   "mimetype": "text/x-python",
   "name": "python",
   "nbconvert_exporter": "python",
   "pygments_lexer": "ipython3",
   "version": "3.10.8"
  },
  "orig_nbformat": 4,
  "vscode": {
   "interpreter": {
    "hash": "bf745b7a5c71c7a30f0769585f909cf40a0a8ad718c406df3a9be45d79e164d9"
   }
  }
 },
 "nbformat": 4,
 "nbformat_minor": 2
}
