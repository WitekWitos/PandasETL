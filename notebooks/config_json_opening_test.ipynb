{
 "cells": [
  {
   "cell_type": "code",
   "execution_count": 1,
   "metadata": {},
   "outputs": [],
   "source": [
    "import pandas as pd"
   ]
  },
  {
   "cell_type": "code",
   "execution_count": 19,
   "metadata": {},
   "outputs": [
    {
     "name": "stdout",
     "output_type": "stream",
     "text": [
      "[['C:\\\\Users\\\\1\\\\Documents\\\\filesystem\\\\dropzone\\\\']\n",
      " ['C:\\\\Users\\\\1\\\\Documents\\\\filesystem\\\\raw\\\\']\n",
      " ['C:\\\\Users\\\\1\\\\Documents\\\\filesystem\\\\standarised\\\\']]\n",
      "[['C:\\\\Users\\\\1\\\\Documents\\\\filesystem\\\\dropzone\\\\']\n",
      " ['C:\\\\Users\\\\1\\\\Documents\\\\filesystem\\\\raw\\\\']\n",
      " ['C:\\\\Users\\\\1\\\\Documents\\\\filesystem\\\\standarised\\\\']]\n",
      "[['C:\\\\Users\\\\1\\\\Documents\\\\filesystem\\\\dropzone\\\\']\n",
      " ['C:\\\\Users\\\\1\\\\Documents\\\\filesystem\\\\raw\\\\']\n",
      " ['C:\\\\Users\\\\1\\\\Documents\\\\filesystem\\\\standarised\\\\']]\n"
     ]
    }
   ],
   "source": [
    "x = pd.read_json(r'C:\\Users\\1\\VSC\\PandasETL\\config\\filesystem_config.json',orient = 'index')\n",
    "type(x)\n",
    "for row in x.itertuples():\n",
    "    print(x.values)\n",
    "    #print(getattr(row,'dropzone_path_customer'))\n"
   ]
  },
  {
   "cell_type": "code",
   "execution_count": 20,
   "metadata": {},
   "outputs": [
    {
     "name": "stdout",
     "output_type": "stream",
     "text": [
      "['C:\\\\Users\\\\1\\\\Documents\\\\filesystem\\\\dropzone\\\\']\n"
     ]
    }
   ],
   "source": [
    "print(x.values[0])"
   ]
  },
  {
   "cell_type": "code",
   "execution_count": null,
   "metadata": {},
   "outputs": [],
   "source": []
  }
 ],
 "metadata": {
  "kernelspec": {
   "display_name": "Python 3.10.8 ('PandasETL': venv)",
   "language": "python",
   "name": "python3"
  },
  "language_info": {
   "codemirror_mode": {
    "name": "ipython",
    "version": 3
   },
   "file_extension": ".py",
   "mimetype": "text/x-python",
   "name": "python",
   "nbconvert_exporter": "python",
   "pygments_lexer": "ipython3",
   "version": "3.10.8"
  },
  "orig_nbformat": 4,
  "vscode": {
   "interpreter": {
    "hash": "bf745b7a5c71c7a30f0769585f909cf40a0a8ad718c406df3a9be45d79e164d9"
   }
  }
 },
 "nbformat": 4,
 "nbformat_minor": 2
}
