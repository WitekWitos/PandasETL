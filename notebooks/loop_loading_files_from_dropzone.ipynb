{
 "cells": [
  {
   "cell_type": "markdown",
   "metadata": {},
   "source": [
    "Packages"
   ]
  },
  {
   "cell_type": "code",
   "execution_count": 2,
   "metadata": {},
   "outputs": [],
   "source": [
    "import pandas as pd\n",
    "from pandasetl.config import Config\n",
    "from datetime import date"
   ]
  },
  {
   "cell_type": "markdown",
   "metadata": {},
   "source": [
    "Global Variables"
   ]
  },
  {
   "cell_type": "code",
   "execution_count": 51,
   "metadata": {},
   "outputs": [
    {
     "name": "stdout",
     "output_type": "stream",
     "text": [
      "today:  2022-10-29\n",
      "file_name:  categories_2022-10-29\n",
      "path_dropzone:  C:\\Users\\1\\Documents\\filesystem\\dropzone\\categories.csv\n",
      "path_raw:  C:\\Users\\1\\Documents\\filesystem\\raw\\categories_2022-10-29.csv\n",
      "path_standarised:  C:\\Users\\1\\Documents\\filesystem\\standarised\\categories_2022-10-29.xlsx\n",
      "today:  2022-10-29\n",
      "file_name:  customer_2022-10-29\n",
      "path_dropzone:  C:\\Users\\1\\Documents\\filesystem\\dropzone\\customer.csv\n",
      "path_raw:  C:\\Users\\1\\Documents\\filesystem\\raw\\customer_2022-10-29.csv\n",
      "path_standarised:  C:\\Users\\1\\Documents\\filesystem\\standarised\\customer_2022-10-29.xlsx\n",
      "today:  2022-10-29\n",
      "file_name:  employee_teritories_2022-10-29\n",
      "path_dropzone:  C:\\Users\\1\\Documents\\filesystem\\dropzone\\employee_teritories.csv\n",
      "path_raw:  C:\\Users\\1\\Documents\\filesystem\\raw\\employee_teritories_2022-10-29.csv\n",
      "path_standarised:  C:\\Users\\1\\Documents\\filesystem\\standarised\\employee_teritories_2022-10-29.xlsx\n",
      "today:  2022-10-29\n",
      "file_name:  employees_2022-10-29\n",
      "path_dropzone:  C:\\Users\\1\\Documents\\filesystem\\dropzone\\employees.csv\n",
      "path_raw:  C:\\Users\\1\\Documents\\filesystem\\raw\\employees_2022-10-29.csv\n",
      "path_standarised:  C:\\Users\\1\\Documents\\filesystem\\standarised\\employees_2022-10-29.xlsx\n",
      "today:  2022-10-29\n",
      "file_name:  order_details_2022-10-29\n",
      "path_dropzone:  C:\\Users\\1\\Documents\\filesystem\\dropzone\\order_details.csv\n",
      "path_raw:  C:\\Users\\1\\Documents\\filesystem\\raw\\order_details_2022-10-29.csv\n",
      "path_standarised:  C:\\Users\\1\\Documents\\filesystem\\standarised\\order_details_2022-10-29.xlsx\n",
      "today:  2022-10-29\n",
      "file_name:  orders_2022-10-29\n",
      "path_dropzone:  C:\\Users\\1\\Documents\\filesystem\\dropzone\\orders.csv\n",
      "path_raw:  C:\\Users\\1\\Documents\\filesystem\\raw\\orders_2022-10-29.csv\n",
      "path_standarised:  C:\\Users\\1\\Documents\\filesystem\\standarised\\orders_2022-10-29.xlsx\n",
      "today:  2022-10-29\n",
      "file_name:  products_2022-10-29\n",
      "path_dropzone:  C:\\Users\\1\\Documents\\filesystem\\dropzone\\products.csv\n",
      "path_raw:  C:\\Users\\1\\Documents\\filesystem\\raw\\products_2022-10-29.csv\n",
      "path_standarised:  C:\\Users\\1\\Documents\\filesystem\\standarised\\products_2022-10-29.xlsx\n",
      "today:  2022-10-29\n",
      "file_name:  regions_2022-10-29\n",
      "path_dropzone:  C:\\Users\\1\\Documents\\filesystem\\dropzone\\regions.csv\n",
      "path_raw:  C:\\Users\\1\\Documents\\filesystem\\raw\\regions_2022-10-29.csv\n",
      "path_standarised:  C:\\Users\\1\\Documents\\filesystem\\standarised\\regions_2022-10-29.xlsx\n",
      "today:  2022-10-29\n",
      "file_name:  shippers_2022-10-29\n",
      "path_dropzone:  C:\\Users\\1\\Documents\\filesystem\\dropzone\\shippers.csv\n",
      "path_raw:  C:\\Users\\1\\Documents\\filesystem\\raw\\shippers_2022-10-29.csv\n",
      "path_standarised:  C:\\Users\\1\\Documents\\filesystem\\standarised\\shippers_2022-10-29.xlsx\n",
      "today:  2022-10-29\n",
      "file_name:  suppliers_2022-10-29\n",
      "path_dropzone:  C:\\Users\\1\\Documents\\filesystem\\dropzone\\suppliers.csv\n",
      "path_raw:  C:\\Users\\1\\Documents\\filesystem\\raw\\suppliers_2022-10-29.csv\n",
      "path_standarised:  C:\\Users\\1\\Documents\\filesystem\\standarised\\suppliers_2022-10-29.xlsx\n",
      "today:  2022-10-29\n",
      "file_name:  territories_2022-10-29\n",
      "path_dropzone:  C:\\Users\\1\\Documents\\filesystem\\dropzone\\territories.csv\n",
      "path_raw:  C:\\Users\\1\\Documents\\filesystem\\raw\\territories_2022-10-29.csv\n",
      "path_standarised:  C:\\Users\\1\\Documents\\filesystem\\standarised\\territories_2022-10-29.xlsx\n"
     ]
    }
   ],
   "source": [
    "today = str(date.today())\n",
    "categories_config = Config(r'C:\\Users\\1\\VSC\\PandasETL\\config\\filesystem_config.json')\n",
    "dropzone_files = ['categories','customer','employee_teritories','employees','order_details',\n",
    "                  'orders','products','regions','shippers','suppliers','territories']\n",
    "\n"
   ]
  },
  {
   "cell_type": "markdown",
   "metadata": {},
   "source": [
    "#Main"
   ]
  },
  {
   "cell_type": "markdown",
   "metadata": {},
   "source": [
    "1. Loop for using variables from given list\n",
    "2. Loading files from dropzone to raw and adding the date to their names\n",
    "3. Loading files from raw to standardised and changing type of file"
   ]
  },
  {
   "cell_type": "code",
   "execution_count": null,
   "metadata": {},
   "outputs": [],
   "source": [
    "for file in dropzone_files:\n",
    "    path_dropzone = categories_config.get_dropzone_path(file)\n",
    "    file_name = file + '_' + today\n",
    "    path_raw = categories_config.get_raw_path(file_name)\n",
    "    path_standarised = categories_config.get_standarised_path(file_name)\n",
    "    #print('today: ', today) \n",
    "    #print('file_name: ', file_name) \n",
    "    #print('path_dropzone: ', path_dropzone) \n",
    "    #print('path_raw: ', path_raw)\n",
    "    #print('path_standarised: ', path_standarised)\n",
    "    df_dropzone = pd.read_csv(path_dropzone)\n",
    "    df_dropzone.to_csv(path_raw)\n",
    "    df_raw = pd.read_csv(path_raw)\n",
    "    df_raw.to_excel(path_standarised, index = False, sheet_name = file)"
   ]
  },
  {
   "cell_type": "markdown",
   "metadata": {},
   "source": [
    "END"
   ]
  }
 ],
 "metadata": {
  "kernelspec": {
   "display_name": "Python 3.10.8 ('PandasETL': venv)",
   "language": "python",
   "name": "python3"
  },
  "language_info": {
   "codemirror_mode": {
    "name": "ipython",
    "version": 3
   },
   "file_extension": ".py",
   "mimetype": "text/x-python",
   "name": "python",
   "nbconvert_exporter": "python",
   "pygments_lexer": "ipython3",
   "version": "3.10.8"
  },
  "orig_nbformat": 4,
  "vscode": {
   "interpreter": {
    "hash": "bf745b7a5c71c7a30f0769585f909cf40a0a8ad718c406df3a9be45d79e164d9"
   }
  }
 },
 "nbformat": 4,
 "nbformat_minor": 2
}
