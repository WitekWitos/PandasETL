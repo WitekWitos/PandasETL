{
 "cells": [
  {
   "cell_type": "code",
   "execution_count": 2,
   "id": "33670061",
   "metadata": {},
   "outputs": [],
   "source": [
    "import pandas as pd\n",
    "import numpy as np\n",
    "import matplotlib.pyplot as plt\n",
    "import math as math"
   ]
  },
  {
   "cell_type": "code",
   "execution_count": 3,
   "id": "b9a350ab",
   "metadata": {},
   "outputs": [],
   "source": [
    "number_of_incidents = [14,334,312,5823,9491,7486,4343]\n",
    "age = ['0-6', '7-14', '15-17', '18-24', '25-39', '40-59', '60+']"
   ]
  },
  {
   "cell_type": "code",
   "execution_count": 4,
   "id": "480c4be1",
   "metadata": {},
   "outputs": [
    {
     "name": "stdout",
     "output_type": "stream",
     "text": [
      "0-6        14\n",
      "7-14      334\n",
      "15-17     312\n",
      "18-24    5823\n",
      "25-39    9491\n",
      "40-59    7486\n",
      "60+      4343\n",
      "dtype: int64\n"
     ]
    }
   ],
   "source": [
    "incidents = pd.Series(number_of_incidents, age)\n",
    "print(incidents)"
   ]
  },
  {
   "cell_type": "code",
   "execution_count": 5,
   "id": "be9eec52",
   "metadata": {},
   "outputs": [
    {
     "name": "stdout",
     "output_type": "stream",
     "text": [
      "0-6         NaN\n",
      "7-14        NaN\n",
      "15-17       NaN\n",
      "18-24    5823.0\n",
      "25-39    9491.0\n",
      "40-59    7486.0\n",
      "60+      4343.0\n",
      "dtype: float64\n"
     ]
    }
   ],
   "source": [
    "more_than_1000 = incidents.where(incidents>1000)\n",
    "print(more_than_1000)"
   ]
  },
  {
   "cell_type": "code",
   "execution_count": 6,
   "id": "bca9581f",
   "metadata": {},
   "outputs": [
    {
     "name": "stdout",
     "output_type": "stream",
     "text": [
      "18-24    5823.0\n",
      "25-39    9491.0\n",
      "40-59    7486.0\n",
      "60+      4343.0\n",
      "dtype: float64\n"
     ]
    }
   ],
   "source": [
    "more_than_1000 = incidents.where(incidents>1000).dropna()\n",
    "print(more_than_1000)"
   ]
  },
  {
   "cell_type": "code",
   "execution_count": 7,
   "id": "6cf469ce",
   "metadata": {},
   "outputs": [
    {
     "data": {
      "text/plain": [
       "0-6        14\n",
       "7-14      334\n",
       "15-17     312\n",
       "18-24    5823\n",
       "25-39    9491\n",
       "40-59    7486\n",
       "60+      4343\n",
       "dtype: int64"
      ]
     },
     "execution_count": 7,
     "metadata": {},
     "output_type": "execute_result"
    }
   ],
   "source": [
    "incidents"
   ]
  },
  {
   "cell_type": "code",
   "execution_count": 8,
   "id": "e8fc5eb5",
   "metadata": {},
   "outputs": [
    {
     "data": {
      "text/plain": [
       "18-24    5823\n",
       "25-39    9491\n",
       "40-59    7486\n",
       "dtype: int64"
      ]
     },
     "execution_count": 8,
     "metadata": {},
     "output_type": "execute_result"
    }
   ],
   "source": [
    "incidents.filter(items=['18-24','25-39','40-59'])"
   ]
  },
  {
   "cell_type": "code",
   "execution_count": 9,
   "id": "05a4b421",
   "metadata": {},
   "outputs": [
    {
     "data": {
      "text/plain": [
       "0-6       14.0\n",
       "7-14     334.0\n",
       "15-17    312.0\n",
       "dtype: float64"
      ]
     },
     "execution_count": 9,
     "metadata": {},
     "output_type": "execute_result"
    }
   ],
   "source": [
    "incidents.where(incidents<=1000, inplace=True)\n",
    "incidents.dropna(inplace=True)\n",
    "incidents\n"
   ]
  },
  {
   "cell_type": "code",
   "execution_count": 10,
   "id": "301f82f9",
   "metadata": {},
   "outputs": [
    {
     "name": "stdout",
     "output_type": "stream",
     "text": [
      "Sprawdzednie\n"
     ]
    }
   ],
   "source": [
    "print('Sprawdzednie')"
   ]
  },
  {
   "cell_type": "code",
   "execution_count": null,
   "id": "852bb841",
   "metadata": {},
   "outputs": [],
   "source": []
  }
 ],
 "metadata": {
  "kernelspec": {
   "display_name": "Python 3 (ipykernel)",
   "language": "python",
   "name": "python3"
  },
  "language_info": {
   "codemirror_mode": {
    "name": "ipython",
    "version": 3
   },
   "file_extension": ".py",
   "mimetype": "text/x-python",
   "name": "python",
   "nbconvert_exporter": "python",
   "pygments_lexer": "ipython3",
   "version": "3.9.13"
  },
  "vscode": {
   "interpreter": {
    "hash": "a42579e49751352c260acb8a961a7e5a6467153a056d5503dc065206adeac815"
   }
  }
 },
 "nbformat": 4,
 "nbformat_minor": 5
}
