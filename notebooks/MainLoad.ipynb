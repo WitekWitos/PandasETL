{
 "cells": [
  {
   "cell_type": "code",
   "execution_count": 2,
   "id": "b8e63960",
   "metadata": {},
   "outputs": [],
   "source": [
    "objects_list = ['categories', 'customer', 'employee_teritories', 'employees','order_details', 'orders', 'products',\n",
    "               'regions','shippers', 'suppliers', 'territories']"
   ]
  },
  {
   "cell_type": "code",
   "execution_count": 3,
   "id": "91bc14fd",
   "metadata": {},
   "outputs": [
    {
     "name": "stdout",
     "output_type": "stream",
     "text": [
      "File categories not uploaded\n",
      "File customer not uploaded\n",
      "File employee_teritories not uploaded\n",
      "File employees not uploaded\n",
      "File order_details not uploaded\n",
      "File orders not uploaded\n",
      "File products not uploaded\n",
      "File regions not uploaded\n",
      "File shippers not uploaded\n",
      "File suppliers not uploaded\n",
      "File territories not uploaded\n"
     ]
    }
   ],
   "source": [
    "for i in objects_list:\n",
    "    try:\n",
    "        object_name = i \n",
    "        %run \"C:\\Users\\1\\VSC\\PandasETL\\notebooks\\ObjectLoad.ipynb\"\n",
    "    except:\n",
    "        print('File', object_name, 'not uploaded')\n",
    "        \n"
   ]
  },
  {
   "cell_type": "code",
   "execution_count": null,
   "id": "e8ffc880",
   "metadata": {},
   "outputs": [],
   "source": []
  }
 ],
 "metadata": {
  "kernelspec": {
   "display_name": "Python 3.10.8 ('venv': venv)",
   "language": "python",
   "name": "python3"
  },
  "language_info": {
   "codemirror_mode": {
    "name": "ipython",
    "version": 3
   },
   "file_extension": ".py",
   "mimetype": "text/x-python",
   "name": "python",
   "nbconvert_exporter": "python",
   "pygments_lexer": "ipython3",
   "version": "3.10.8"
  },
  "vscode": {
   "interpreter": {
    "hash": "64d1a0af7c53f5539fef13ee208f4006e8474a1c52f4e38cb129124fa5b0b9ea"
   }
  }
 },
 "nbformat": 4,
 "nbformat_minor": 5
}
