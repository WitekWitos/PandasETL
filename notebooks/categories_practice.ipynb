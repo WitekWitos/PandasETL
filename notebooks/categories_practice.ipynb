{
 "cells": [
  {
   "cell_type": "code",
   "execution_count": 3,
   "metadata": {},
   "outputs": [],
   "source": [
    "import pandas as pd"
   ]
  },
  {
   "cell_type": "code",
   "execution_count": 1,
   "metadata": {},
   "outputs": [],
   "source": [
    "from pandasetl.categories import Categories"
   ]
  },
  {
   "cell_type": "code",
   "execution_count": 4,
   "metadata": {},
   "outputs": [],
   "source": [
    "df = pd.read_csv(r'C:\\Users\\1\\Documents\\filesystem\\dropzone\\categories.csv')"
   ]
  },
  {
   "cell_type": "code",
   "execution_count": 12,
   "metadata": {},
   "outputs": [
    {
     "name": "stdout",
     "output_type": "stream",
     "text": [
      "[Pandas(Index=0, categoryID=1, categoryName='Beverages', description='Soft drinks coffees teas beers and ales', picture='0x151C2F00020000000D000E0014002100FFFFFFFF4269746D617020496D616765005061696E742E5069637475726500010500000200000007000000504272757368000000000000000000A0290000424D98290000000000005600000028000000AC00000078000000010004000000000000000000880B0000880B0000080000'), Pandas(Index=1, categoryID=2, categoryName='Condiments', description='Sweet and savory sauces relishes spreads and seasonings', picture='0x151C2F00020000000D000E0014002100FFFFFFFF4269746D617020496D616765005061696E742E5069637475726500010500000200000007000000504272757368000000000000000000A0290000424D98290000000000005600000028000000AC00000078000000010004000000000000000000880B0000880B0000080000'), Pandas(Index=2, categoryID=3, categoryName='Confections', description='Desserts candies and sweet breads', picture='0x151C2F00020000000D000E0014002100FFFFFFFF4269746D617020496D616765005061696E742E5069637475726500010500000200000007000000504272757368000000000000000000A0290000424D98290000000000005600000028000000AC00000078000000010004000000000000000000880B0000880B0000080000'), Pandas(Index=3, categoryID=4, categoryName='Dairy Products', description='Cheeses', picture='0x151C2F00020000000D000E0014002100FFFFFFFF4269746D617020496D616765005061696E742E5069637475726500010500000200000007000000504272757368000000000000000000A0290000424D98290000000000005600000028000000AC00000078000000010004000000000000000000880B0000880B0000080000'), Pandas(Index=4, categoryID=5, categoryName='Grains/Cereals', description='Breads crackers pasta and cereal', picture='0x151C2F00020000000D000E0014002100FFFFFFFF4269746D617020496D616765005061696E742E5069637475726500010500000200000007000000504272757368000000000000000000A0290000424D98290000000000005600000028000000AC00000078000000010004000000000000000000880B0000880B0000080000'), Pandas(Index=5, categoryID=6, categoryName='Meat/Poultry', description='Prepared meats', picture='0x151C2F00020000000D000E0014002100FFFFFFFF4269746D617020496D616765005061696E742E5069637475726500010500000200000007000000504272757368000000000000000000A0290000424D98290000000000005600000028000000AC00000078000000010004000000000000000000880B0000880B0000080000'), Pandas(Index=6, categoryID=7, categoryName='Produce', description='Dried fruit and bean curd', picture='0x151C2F00020000000D000E0014002100FFFFFFFF4269746D617020496D616765005061696E742E5069637475726500010500000200000007000000504272757368000000000000000000A0290000424D98290000000000005600000028000000AC00000078000000010004000000000000000000880B0000880B0000080000'), Pandas(Index=7, categoryID=8, categoryName='Seafood', description='Seaweed and fish', picture='0x151C2F00020000000D000E0014002100FFFFFFFF4269746D617020496D616765005061696E742E5069637475726500010500000200000007000000504272757368000000000000000000A0290000424D98290000000000005600000028000000AC00000078000000010004000000000000000000880B0000880B0000080000')]\n",
      "   Index  ...                                            picture\n",
      "0      0  ...  0x151C2F00020000000D000E0014002100FFFFFFFF4269...\n",
      "1      1  ...  0x151C2F00020000000D000E0014002100FFFFFFFF4269...\n",
      "2      2  ...  0x151C2F00020000000D000E0014002100FFFFFFFF4269...\n",
      "3      3  ...  0x151C2F00020000000D000E0014002100FFFFFFFF4269...\n",
      "4      4  ...  0x151C2F00020000000D000E0014002100FFFFFFFF4269...\n",
      "5      5  ...  0x151C2F00020000000D000E0014002100FFFFFFFF4269...\n",
      "6      6  ...  0x151C2F00020000000D000E0014002100FFFFFFFF4269...\n",
      "7      7  ...  0x151C2F00020000000D000E0014002100FFFFFFFF4269...\n",
      "\n",
      "[8 rows x 5 columns]\n"
     ]
    }
   ],
   "source": [
    "from pandas import DataFrame\n"
   ]
  },
  {
   "cell_type": "code",
   "execution_count": 10,
   "metadata": {},
   "outputs": [
    {
     "name": "stdout",
     "output_type": "stream",
     "text": [
      "1\n",
      "2\n",
      "3\n",
      "4\n",
      "5\n",
      "6\n",
      "7\n",
      "8\n"
     ]
    }
   ],
   "source": [
    "results = []\n",
    "for row in df.itertuples():\n",
    "    c = Categories(row)\n",
    "    print(c.get_category_id())\n",
    "    results.append(row)\n"
   ]
  },
  {
   "cell_type": "code",
   "execution_count": 13,
   "metadata": {},
   "outputs": [
    {
     "name": "stdout",
     "output_type": "stream",
     "text": [
      "categoryID                                                      1\n",
      "categoryName                                            Beverages\n",
      "description               Soft drinks coffees teas beers and ales\n",
      "picture         0x151C2F00020000000D000E0014002100FFFFFFFF4269...\n",
      "Name: 0, dtype: object\n"
     ]
    }
   ],
   "source": [
    "df = pd.read_csv(r'C:\\Users\\1\\Documents\\filesystem\\dropzone\\categories.csv')\n",
    "df.head()\n",
    "print(df.iloc[0])\n",
    "\n",
    "\n"
   ]
  },
  {
   "cell_type": "code",
   "execution_count": 8,
   "metadata": {},
   "outputs": [
    {
     "name": "stdout",
     "output_type": "stream",
     "text": [
      "Beverages\n",
      "Condiments\n",
      "Confections\n",
      "Dairy Products\n",
      "Grains/Cereals\n",
      "Meat/Poultry\n",
      "Produce\n",
      "Seafood\n"
     ]
    }
   ],
   "source": [
    "for row in df.itertuples():\n",
    "    print(row.categoryName)\n",
    "\n",
    "    "
   ]
  },
  {
   "cell_type": "code",
   "execution_count": 21,
   "metadata": {},
   "outputs": [
    {
     "name": "stdout",
     "output_type": "stream",
     "text": [
      "Beverages 1\n",
      "Condiments 2\n",
      "Confections 3\n",
      "Dairy Products 4\n",
      "Grains/Cereals 5\n",
      "Meat/Poultry 6\n",
      "Produce 7\n",
      "Seafood 8\n"
     ]
    }
   ],
   "source": [
    "for r in df.itertuples():\n",
    "    print(getattr(r,'categoryName'),getattr(r,'categoryID'))\n",
    "\n"
   ]
  },
  {
   "cell_type": "code",
   "execution_count": 11,
   "metadata": {},
   "outputs": [],
   "source": [
    "from pandas import DataFrame\n",
    "\n",
    "\n",
    "x = DataFrame(df)"
   ]
  },
  {
   "cell_type": "code",
   "execution_count": 13,
   "metadata": {},
   "outputs": [
    {
     "name": "stdout",
     "output_type": "stream",
     "text": [
      "   categoryID    categoryName  \\\n",
      "0           1       Beverages   \n",
      "1           2      Condiments   \n",
      "2           3     Confections   \n",
      "3           4  Dairy Products   \n",
      "4           5  Grains/Cereals   \n",
      "5           6    Meat/Poultry   \n",
      "6           7         Produce   \n",
      "7           8         Seafood   \n",
      "\n",
      "                                         description  \\\n",
      "0            Soft drinks coffees teas beers and ales   \n",
      "1  Sweet and savory sauces relishes spreads and s...   \n",
      "2                  Desserts candies and sweet breads   \n",
      "3                                            Cheeses   \n",
      "4                   Breads crackers pasta and cereal   \n",
      "5                                     Prepared meats   \n",
      "6                          Dried fruit and bean curd   \n",
      "7                                   Seaweed and fish   \n",
      "\n",
      "                                             picture  \n",
      "0  0x151C2F00020000000D000E0014002100FFFFFFFF4269...  \n",
      "1  0x151C2F00020000000D000E0014002100FFFFFFFF4269...  \n",
      "2  0x151C2F00020000000D000E0014002100FFFFFFFF4269...  \n",
      "3  0x151C2F00020000000D000E0014002100FFFFFFFF4269...  \n",
      "4  0x151C2F00020000000D000E0014002100FFFFFFFF4269...  \n",
      "5  0x151C2F00020000000D000E0014002100FFFFFFFF4269...  \n",
      "6  0x151C2F00020000000D000E0014002100FFFFFFFF4269...  \n",
      "7  0x151C2F00020000000D000E0014002100FFFFFFFF4269...  \n"
     ]
    }
   ],
   "source": [
    "type(df.itertuples())\n",
    "tabela = DataFrame(df)\n",
    "print(tabela)"
   ]
  },
  {
   "cell_type": "code",
   "execution_count": 80,
   "metadata": {},
   "outputs": [
    {
     "data": {
      "text/plain": [
       "'Beverages'"
      ]
     },
     "execution_count": 80,
     "metadata": {},
     "output_type": "execute_result"
    }
   ],
   "source": [
    "df.loc[0].loc['categoryName']"
   ]
  },
  {
   "cell_type": "code",
   "execution_count": 81,
   "metadata": {},
   "outputs": [
    {
     "data": {
      "text/plain": [
       "'Beverages'"
      ]
     },
     "execution_count": 81,
     "metadata": {},
     "output_type": "execute_result"
    }
   ],
   "source": [
    "df.loc[0,'categoryName']"
   ]
  },
  {
   "cell_type": "code",
   "execution_count": null,
   "metadata": {},
   "outputs": [],
   "source": []
  }
 ],
 "metadata": {
  "kernelspec": {
   "display_name": "Python 3.10.8 ('PandasETL': venv)",
   "language": "python",
   "name": "python3"
  },
  "language_info": {
   "codemirror_mode": {
    "name": "ipython",
    "version": 3
   },
   "file_extension": ".py",
   "mimetype": "text/x-python",
   "name": "python",
   "nbconvert_exporter": "python",
   "pygments_lexer": "ipython3",
   "version": "3.10.8"
  },
  "orig_nbformat": 4,
  "vscode": {
   "interpreter": {
    "hash": "bf745b7a5c71c7a30f0769585f909cf40a0a8ad718c406df3a9be45d79e164d9"
   }
  }
 },
 "nbformat": 4,
 "nbformat_minor": 2
}
