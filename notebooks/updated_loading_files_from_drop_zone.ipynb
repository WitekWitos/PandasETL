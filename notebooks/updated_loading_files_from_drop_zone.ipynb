{
 "cells": [
  {
   "cell_type": "markdown",
   "metadata": {},
   "source": [
    "Packages"
   ]
  },
  {
   "cell_type": "code",
   "execution_count": 11,
   "metadata": {},
   "outputs": [],
   "source": [
    "import pandas as pd\n",
    "from pandasetl.config import Config\n",
    "from datetime import date"
   ]
  },
  {
   "cell_type": "markdown",
   "metadata": {},
   "source": [
    "Global Variables"
   ]
  },
  {
   "cell_type": "code",
   "execution_count": 2,
   "metadata": {},
   "outputs": [
    {
     "name": "stdout",
     "output_type": "stream",
     "text": [
      "today:  2022-10-23\n",
      "file_name:  categories_2022-10-23\n",
      "path_dropzone:  C:\\Users\\1\\Documents\\filesystem\\dropzone\\categories.csv\n",
      "path_raw:  C:\\Users\\1\\Documents\\filesystem\\raw\\categories_2022-10-23.csv\n",
      "path_standarised:  C:\\Users\\1\\Documents\\filesystem\\standarised\\categories_2022-10-23.xlsx\n"
     ]
    }
   ],
   "source": [
    "today = str(date.today())\n",
    "categories_config = Config(r'C:\\Users\\1\\VSC\\PandasETL\\config\\filesystem_config.json')\n",
    "#Do stworzenia w pętli dla pozostałych obiektów\n",
    "path_dropzone = categories_config.get_dropzone_path('categories')\n",
    "file_name = 'categories' + '_' + today\n",
    "path_raw = categories_config.get_raw_path(file_name)\n",
    "path_standarised = categories_config.get_standarised_path(file_name)\n",
    "print('today: ', today) \n",
    "print('file_name: ', file_name) \n",
    "print('path_dropzone: ', path_dropzone) \n",
    "print('path_raw: ', path_raw)\n",
    "print('path_standarised: ', path_standarised)"
   ]
  },
  {
   "cell_type": "markdown",
   "metadata": {},
   "source": [
    "#Main"
   ]
  },
  {
   "cell_type": "markdown",
   "metadata": {},
   "source": [
    "1. Loading from dropzone to raw"
   ]
  },
  {
   "cell_type": "code",
   "execution_count": 12,
   "metadata": {},
   "outputs": [],
   "source": [
    "df_dropzone = pd.read_csv(path_dropzone)\n",
    "df_dropzone.to_csv(path_raw)"
   ]
  },
  {
   "cell_type": "markdown",
   "metadata": {},
   "source": [
    "2. Loading from raw to standarised"
   ]
  },
  {
   "cell_type": "code",
   "execution_count": 4,
   "metadata": {},
   "outputs": [],
   "source": [
    "df_raw = pd.read_csv(path_raw)\n",
    "df_raw.to_excel(path_standarised, index = False, sheet_name = 'categories')"
   ]
  },
  {
   "cell_type": "markdown",
   "metadata": {},
   "source": [
    "END"
   ]
  }
 ],
 "metadata": {
  "kernelspec": {
   "display_name": "Python 3.10.8 ('PandasETL': venv)",
   "language": "python",
   "name": "python3"
  },
  "language_info": {
   "codemirror_mode": {
    "name": "ipython",
    "version": 3
   },
   "file_extension": ".py",
   "mimetype": "text/x-python",
   "name": "python",
   "nbconvert_exporter": "python",
   "pygments_lexer": "ipython3",
   "version": "3.10.8"
  },
  "orig_nbformat": 4,
  "vscode": {
   "interpreter": {
    "hash": "bf745b7a5c71c7a30f0769585f909cf40a0a8ad718c406df3a9be45d79e164d9"
   }
  }
 },
 "nbformat": 4,
 "nbformat_minor": 2
}
