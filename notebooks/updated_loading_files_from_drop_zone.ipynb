{
 "cells": [
  {
   "cell_type": "code",
   "execution_count": 1,
   "metadata": {},
   "outputs": [],
   "source": [
    "import pandas as pd\n",
    "from classes.config import Config\n",
    "from datetime import date"
   ]
  },
  {
   "cell_type": "code",
   "execution_count": 2,
   "metadata": {},
   "outputs": [],
   "source": [
    "#creating variable with todays date\n",
    "today = str(date.today())\n",
    "\n",
    "#creating variable categories with file paths using class Config\n",
    "#moving file 'x - categories' from dropzone folder to raw folder \n",
    "categories = Config('categories').get_dropzone_path()\n",
    "file_to_replace_from_dropzone = pd.read_csv(categories)\n",
    "file_to_replace_from_dropzone.to_csv('C:\\\\Users\\\\1\\\\Documents\\\\filesystem\\\\raw\\\\categories_'+today+'.csv')\n",
    "\n",
    "#moving file 'x - categories' from raw folder to standarised \n",
    "#changing file 'x - categories' from .csv to xlsx\n",
    "categories2 = Config('categories_'+today).get_raw_path()\n",
    "file_csv_from_raw = pd.read_csv(categories2)\n",
    "file_csv_from_raw.to_excel('C:\\\\Users\\\\1\\\\Documents\\\\filesystem\\\\standarised\\\\categories_'+today+'.xlsx', index = False)"
   ]
  },
  {
   "cell_type": "code",
   "execution_count": null,
   "metadata": {},
   "outputs": [],
   "source": []
  }
 ],
 "metadata": {
  "kernelspec": {
   "display_name": "Python 3.10.8 ('PandasETL': venv)",
   "language": "python",
   "name": "python3"
  },
  "language_info": {
   "codemirror_mode": {
    "name": "ipython",
    "version": 3
   },
   "file_extension": ".py",
   "mimetype": "text/x-python",
   "name": "python",
   "nbconvert_exporter": "python",
   "pygments_lexer": "ipython3",
   "version": "3.10.8"
  },
  "orig_nbformat": 4,
  "vscode": {
   "interpreter": {
    "hash": "bf745b7a5c71c7a30f0769585f909cf40a0a8ad718c406df3a9be45d79e164d9"
   }
  }
 },
 "nbformat": 4,
 "nbformat_minor": 2
}
