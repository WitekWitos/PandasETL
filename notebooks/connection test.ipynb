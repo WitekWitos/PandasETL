{
 "cells": [
  {
   "cell_type": "code",
   "execution_count": 1,
   "metadata": {},
   "outputs": [
    {
     "name": "stdout",
     "output_type": "stream",
     "text": [
      "Name: classes\n",
      "Version: 0.0.1\n",
      "Summary: My short description for my project.\n",
      "Home-page: https://github.com/WitekWitos/PandasETL\n",
      "Author: Witold Piwowarski\n",
      "Author-email: witold.piwowarski.pollub@gmail.com\n",
      "License: Custom\n",
      "Location: c:\\users\\1\\vsc\\pandasetl\\env\\lib\\site-packages\n",
      "Requires: \n",
      "Required-by: \n",
      "Note: you may need to restart the kernel to use updated packages.\n"
     ]
    }
   ],
   "source": [
    "pip show classes"
   ]
  },
  {
   "cell_type": "code",
   "execution_count": 12,
   "metadata": {},
   "outputs": [
    {
     "name": "stdout",
     "output_type": "stream",
     "text": [
      "Name: classes\n",
      "Version: 0.0.1\n",
      "Summary: My short description for my project.\n",
      "Home-page: https://github.com/WitekWitos/PandasETL\n",
      "Author: Witold Piwowarski\n",
      "Author-email: witold.piwowarski.pollub@gmail.com\n",
      "License: Custom\n",
      "Location: c:\\users\\1\\vsc\\pandasetl\\env\\lib\\site-packages\n",
      "Requires: \n",
      "Required-by: \n",
      "Note: you may need to restart the kernel to use updated packages.\n"
     ]
    }
   ],
   "source": [
    "pip show classes"
   ]
  },
  {
   "cell_type": "code",
   "execution_count": 20,
   "metadata": {},
   "outputs": [],
   "source": [
    "from classes.Customer import Customer"
   ]
  },
  {
   "cell_type": "code",
   "execution_count": 19,
   "metadata": {},
   "outputs": [],
   "source": [
    "customer4 = Customer('Seb',8,'Male','bussiness client')"
   ]
  },
  {
   "cell_type": "code",
   "execution_count": 22,
   "metadata": {},
   "outputs": [],
   "source": [
    "import pandas as pd"
   ]
  },
  {
   "cell_type": "code",
   "execution_count": 23,
   "metadata": {},
   "outputs": [
    {
     "data": {
      "text/html": [
       "<div>\n",
       "<style scoped>\n",
       "    .dataframe tbody tr th:only-of-type {\n",
       "        vertical-align: middle;\n",
       "    }\n",
       "\n",
       "    .dataframe tbody tr th {\n",
       "        vertical-align: top;\n",
       "    }\n",
       "\n",
       "    .dataframe thead th {\n",
       "        text-align: right;\n",
       "    }\n",
       "</style>\n",
       "<table border=\"1\" class=\"dataframe\">\n",
       "  <thead>\n",
       "    <tr style=\"text-align: right;\">\n",
       "      <th></th>\n",
       "      <th>categoryID</th>\n",
       "      <th>categoryName</th>\n",
       "      <th>description</th>\n",
       "      <th>picture</th>\n",
       "    </tr>\n",
       "  </thead>\n",
       "  <tbody>\n",
       "    <tr>\n",
       "      <th>0</th>\n",
       "      <td>1</td>\n",
       "      <td>Beverages</td>\n",
       "      <td>Soft drinks coffees teas beers and ales</td>\n",
       "      <td>0x151C2F00020000000D000E0014002100FFFFFFFF4269...</td>\n",
       "    </tr>\n",
       "    <tr>\n",
       "      <th>1</th>\n",
       "      <td>2</td>\n",
       "      <td>Condiments</td>\n",
       "      <td>Sweet and savory sauces relishes spreads and s...</td>\n",
       "      <td>0x151C2F00020000000D000E0014002100FFFFFFFF4269...</td>\n",
       "    </tr>\n",
       "    <tr>\n",
       "      <th>2</th>\n",
       "      <td>3</td>\n",
       "      <td>Confections</td>\n",
       "      <td>Desserts candies and sweet breads</td>\n",
       "      <td>0x151C2F00020000000D000E0014002100FFFFFFFF4269...</td>\n",
       "    </tr>\n",
       "    <tr>\n",
       "      <th>3</th>\n",
       "      <td>4</td>\n",
       "      <td>Dairy Products</td>\n",
       "      <td>Cheeses</td>\n",
       "      <td>0x151C2F00020000000D000E0014002100FFFFFFFF4269...</td>\n",
       "    </tr>\n",
       "    <tr>\n",
       "      <th>4</th>\n",
       "      <td>5</td>\n",
       "      <td>Grains/Cereals</td>\n",
       "      <td>Breads crackers pasta and cereal</td>\n",
       "      <td>0x151C2F00020000000D000E0014002100FFFFFFFF4269...</td>\n",
       "    </tr>\n",
       "    <tr>\n",
       "      <th>5</th>\n",
       "      <td>6</td>\n",
       "      <td>Meat/Poultry</td>\n",
       "      <td>Prepared meats</td>\n",
       "      <td>0x151C2F00020000000D000E0014002100FFFFFFFF4269...</td>\n",
       "    </tr>\n",
       "    <tr>\n",
       "      <th>6</th>\n",
       "      <td>7</td>\n",
       "      <td>Produce</td>\n",
       "      <td>Dried fruit and bean curd</td>\n",
       "      <td>0x151C2F00020000000D000E0014002100FFFFFFFF4269...</td>\n",
       "    </tr>\n",
       "    <tr>\n",
       "      <th>7</th>\n",
       "      <td>8</td>\n",
       "      <td>Seafood</td>\n",
       "      <td>Seaweed and fish</td>\n",
       "      <td>0x151C2F00020000000D000E0014002100FFFFFFFF4269...</td>\n",
       "    </tr>\n",
       "  </tbody>\n",
       "</table>\n",
       "</div>"
      ],
      "text/plain": [
       "   categoryID    categoryName  \\\n",
       "0           1       Beverages   \n",
       "1           2      Condiments   \n",
       "2           3     Confections   \n",
       "3           4  Dairy Products   \n",
       "4           5  Grains/Cereals   \n",
       "5           6    Meat/Poultry   \n",
       "6           7         Produce   \n",
       "7           8         Seafood   \n",
       "\n",
       "                                         description  \\\n",
       "0            Soft drinks coffees teas beers and ales   \n",
       "1  Sweet and savory sauces relishes spreads and s...   \n",
       "2                  Desserts candies and sweet breads   \n",
       "3                                            Cheeses   \n",
       "4                   Breads crackers pasta and cereal   \n",
       "5                                     Prepared meats   \n",
       "6                          Dried fruit and bean curd   \n",
       "7                                   Seaweed and fish   \n",
       "\n",
       "                                             picture  \n",
       "0  0x151C2F00020000000D000E0014002100FFFFFFFF4269...  \n",
       "1  0x151C2F00020000000D000E0014002100FFFFFFFF4269...  \n",
       "2  0x151C2F00020000000D000E0014002100FFFFFFFF4269...  \n",
       "3  0x151C2F00020000000D000E0014002100FFFFFFFF4269...  \n",
       "4  0x151C2F00020000000D000E0014002100FFFFFFFF4269...  \n",
       "5  0x151C2F00020000000D000E0014002100FFFFFFFF4269...  \n",
       "6  0x151C2F00020000000D000E0014002100FFFFFFFF4269...  \n",
       "7  0x151C2F00020000000D000E0014002100FFFFFFFF4269...  "
      ]
     },
     "execution_count": 23,
     "metadata": {},
     "output_type": "execute_result"
    }
   ],
   "source": [
    "pd.read_csv(r'C:\\Users\\1\\VSC\\PandasETL\\data\\categories.csv')"
   ]
  },
  {
   "cell_type": "code",
   "execution_count": null,
   "metadata": {},
   "outputs": [],
   "source": []
  }
 ],
 "metadata": {
  "kernelspec": {
   "display_name": "Python 3.10.8 ('env': venv)",
   "language": "python",
   "name": "python3"
  },
  "language_info": {
   "codemirror_mode": {
    "name": "ipython",
    "version": 3
   },
   "file_extension": ".py",
   "mimetype": "text/x-python",
   "name": "python",
   "nbconvert_exporter": "python",
   "pygments_lexer": "ipython3",
   "version": "3.10.8"
  },
  "orig_nbformat": 4,
  "vscode": {
   "interpreter": {
    "hash": "0d15348a76dc7f6e1e8a079f1ffd086ae0909be2707a05e071eb46c996f249df"
   }
  }
 },
 "nbformat": 4,
 "nbformat_minor": 2
}
