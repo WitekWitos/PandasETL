{
 "cells": [
  {
   "cell_type": "markdown",
   "metadata": {},
   "source": [
    "Packages"
   ]
  },
  {
   "cell_type": "code",
   "execution_count": 1,
   "metadata": {},
   "outputs": [],
   "source": [
    "import pandas as pd\n",
    "from pandasetl.config import Config\n",
    "from datetime import date\n",
    "from pandasetl.categories import Categories\n",
    "from pandasetl.customer import Customer\n",
    "from pandasetl.employee_teritories import Employee_teritories\n",
    "from pandasetl.employees import Employees\n",
    "from pandasetl.order_details import Order_details\n",
    "from pandasetl.orders import Orders\n",
    "from pandasetl.products import Products\n",
    "from pandasetl.regions import Regions\n",
    "from pandasetl.shippers import Shippers\n",
    "from pandasetl.suppliers import Suppliers\n",
    "from pandasetl.territories import Territories"
   ]
  },
  {
   "cell_type": "markdown",
   "metadata": {},
   "source": [
    "Global Variables"
   ]
  },
  {
   "cell_type": "code",
   "execution_count": 2,
   "metadata": {
    "collapsed": true
   },
   "outputs": [
    {
     "ename": "NameError",
     "evalue": "name 'object_name' is not defined",
     "output_type": "error",
     "traceback": [
      "\u001b[1;31m---------------------------------------------------------------------------\u001b[0m",
      "\u001b[1;31mNameError\u001b[0m                                 Traceback (most recent call last)",
      "Cell \u001b[1;32mIn [2], line 4\u001b[0m\n\u001b[0;32m      2\u001b[0m today \u001b[39m=\u001b[39m \u001b[39mstr\u001b[39m(date\u001b[39m.\u001b[39mtoday())\n\u001b[0;32m      3\u001b[0m categories_config \u001b[39m=\u001b[39m Config(\u001b[39mr\u001b[39m\u001b[39m'\u001b[39m\u001b[39mC:\u001b[39m\u001b[39m\\\u001b[39m\u001b[39mUsers\u001b[39m\u001b[39m\\\u001b[39m\u001b[39m1\u001b[39m\u001b[39m\\\u001b[39m\u001b[39mVSC\u001b[39m\u001b[39m\\\u001b[39m\u001b[39mPandasETL\u001b[39m\u001b[39m\\\u001b[39m\u001b[39mconfig\u001b[39m\u001b[39m\\\u001b[39m\u001b[39mfilesystem_config.json\u001b[39m\u001b[39m'\u001b[39m)\n\u001b[1;32m----> 4\u001b[0m file \u001b[39m=\u001b[39m object_name\n\u001b[0;32m      5\u001b[0m path_dropzone \u001b[39m=\u001b[39m categories_config\u001b[39m.\u001b[39mget_dropzone_path(file)\n\u001b[0;32m      6\u001b[0m file_name \u001b[39m=\u001b[39m file \u001b[39m+\u001b[39m \u001b[39m'\u001b[39m\u001b[39m_\u001b[39m\u001b[39m'\u001b[39m \u001b[39m+\u001b[39m today\n",
      "\u001b[1;31mNameError\u001b[0m: name 'object_name' is not defined"
     ]
    }
   ],
   "source": [
    "result = []\n",
    "today = str(date.today())\n",
    "categories_config = Config(r'C:\\Users\\1\\VSC\\PandasETL\\config\\filesystem_config.json')\n",
    "file = object_name\n",
    "path_dropzone = categories_config.get_dropzone_path(file)\n",
    "file_name = file + '_' + today\n",
    "path_raw = categories_config.get_raw_path(file_name)\n",
    "path_standarised = categories_config.get_standarised_path(file_name)\n",
    "print('-------------------------')\n",
    "print('today: ', today) \n",
    "print('file_name: ', file_name) \n",
    "print('path_dropzone: ', path_dropzone) \n",
    "print('path_raw: ', path_raw)\n",
    "print('path_standarised: ', path_standarised)\n",
    "print('-------------------------')\n"
   ]
  },
  {
   "cell_type": "markdown",
   "metadata": {},
   "source": [
    "#Main"
   ]
  },
  {
   "cell_type": "markdown",
   "metadata": {},
   "source": [
    "1. Loading from dropzone to raw"
   ]
  },
  {
   "cell_type": "code",
   "execution_count": 3,
   "metadata": {
    "collapsed": true
   },
   "outputs": [
    {
     "ename": "NameError",
     "evalue": "name 'path_dropzone' is not defined",
     "output_type": "error",
     "traceback": [
      "\u001b[1;31m---------------------------------------------------------------------------\u001b[0m",
      "\u001b[1;31mNameError\u001b[0m                                 Traceback (most recent call last)",
      "Cell \u001b[1;32mIn [3], line 1\u001b[0m\n\u001b[1;32m----> 1\u001b[0m df_dropzone \u001b[39m=\u001b[39m pd\u001b[39m.\u001b[39mread_csv(path_dropzone)\n\u001b[0;32m      2\u001b[0m df_dropzone\u001b[39m.\u001b[39mto_csv(path_raw)\n",
      "\u001b[1;31mNameError\u001b[0m: name 'path_dropzone' is not defined"
     ]
    }
   ],
   "source": [
    "df_dropzone = pd.read_csv(path_dropzone)\n",
    "df_dropzone.to_csv(path_raw)"
   ]
  },
  {
   "cell_type": "markdown",
   "metadata": {},
   "source": [
    "2. Implementing raw file, exctracting and changing data in files"
   ]
  },
  {
   "cell_type": "code",
   "execution_count": 4,
   "metadata": {
    "collapsed": true
   },
   "outputs": [
    {
     "ename": "NameError",
     "evalue": "name 'path_raw' is not defined",
     "output_type": "error",
     "traceback": [
      "\u001b[1;31m---------------------------------------------------------------------------\u001b[0m",
      "\u001b[1;31mNameError\u001b[0m                                 Traceback (most recent call last)",
      "Cell \u001b[1;32mIn [4], line 1\u001b[0m\n\u001b[1;32m----> 1\u001b[0m df_raw \u001b[39m=\u001b[39m pd\u001b[39m.\u001b[39mread_csv(path_raw)\n\u001b[0;32m      3\u001b[0m \u001b[39mif\u001b[39;00m file \u001b[39m==\u001b[39m \u001b[39m'\u001b[39m\u001b[39mcategories\u001b[39m\u001b[39m'\u001b[39m:\n\u001b[0;32m      4\u001b[0m     \u001b[39mfor\u001b[39;00m row \u001b[39min\u001b[39;00m df_raw\u001b[39m.\u001b[39mitertuples():\n",
      "\u001b[1;31mNameError\u001b[0m: name 'path_raw' is not defined"
     ]
    }
   ],
   "source": [
    "df_raw = pd.read_csv(path_raw)\n",
    "\n",
    "if file == 'categories':\n",
    "    for row in df_raw.itertuples():\n",
    "        df_row = Categories(row)\n",
    "        result.append((df_row.get_category_name(), df_row.get_category_id(), df_row.get_description(), df_row.get_picture()))\n",
    "    df_restored = pd.DataFrame(result, columns = ['categoryName', 'categoryID', 'description', 'picture'])\n",
    "    print(df_restored)\n",
    "\n",
    "elif file == 'customer':\n",
    "    for row in df_raw.itertuples():\n",
    "        df_row = Customer(row)\n",
    "        result.append((df_row.get_region(), df_row.get_postal_code(), df_row.get_coutry(), \n",
    "                       df_row.get_phone(), df_row.get_fax()))\n",
    "    df_restored = pd.DataFrame(result, columns = ['region', 'postalCode', 'country', 'phone','fax'])\n",
    "    print(df_restored)\n",
    "    \n",
    "elif file == 'employee_teritories':\n",
    "    for row in df_raw.itertuples():\n",
    "        df_row = Employee_teritories(row)\n",
    "        result.append((df_row.get_employee_ID(), df_row.get_territory_ID()))\n",
    "    df_restored = pd.DataFrame(result, columns = ['employeeID', 'territoryID'])\n",
    "    print(df_restored)\n",
    "    \n",
    "elif file == 'employees':\n",
    "    for row in df_raw.itertuples():\n",
    "        df_row = Employees(row)\n",
    "        result.append((df_row.get_employee_ID(), df_row.get_last_name(), df_row.get_first_name(), df_row.get_title(), \n",
    "                   df_row.get_title_of_courtesy(), df_row.get_birth_date(), df_row.get_hire_date(), df_row.get_address(),\n",
    "                   df_row.get_city(), df_row.get_region(), df_row.get_postal_code(), df_row.get_country(), df_row.get_home_phone(),\n",
    "                   df_row.get_extension(), df_row.get_photo(), df_row.get_notes(), df_row.get_reports_To(), df_row.get_photo_path()))\n",
    "    df_restored = pd.DataFrame(result, columns = ['employeeID', 'listName', 'firstName', 'title', 'titleOfCourtesy',\n",
    "                                             'birthDate', 'hireDate', 'adress', 'city', 'region', 'postalCode', 'country',\n",
    "                                             'homePhone', 'extension', 'photo', 'notes', 'reportsTo', 'photoPath'])\n",
    "    print(df_restored)\n",
    "\n",
    "elif file == 'order_details':\n",
    "    for row in df_raw.itertuples():\n",
    "        df_row = Order_details(row)\n",
    "        result.append((df_row.get_order_id(), df_row.get_product_id(), df_row.get_unit_price(), df_row.get_quantity(),\n",
    "                      df_row.get_discount()))\n",
    "    df_restored = pd.DataFrame(result, columns = ['orderID', 'productID', 'unitPrice', 'quantity', 'discount'])\n",
    "    print(df_restored)\n",
    "    \n",
    "elif file == 'orders':\n",
    "    for row in df_raw.itertuples():\n",
    "        df_row = Orders(row)\n",
    "        result.append((df_row.get_order_id(), df_row.get_customer_id(), df_row.get_employee_id(), df_row.get_order_date(),\n",
    "                      df_row.get_required_date(), df_row.get_shipped_date(), df_row.get_ship_Via(), df_row.get_freight(),\n",
    "                      df_row.get_ship_name(), df_row.get_ship_address(), df_row.get_ship_city(), df_row.get_ship_region(),\n",
    "                      df_row.get_ship_postal_code(), df_row.get_ship_country()))\n",
    "    df_restored = pd.DataFrame(result, columns = ['orderID', 'customerID', 'employeeID', 'orderDate', 'requiredDate',\n",
    "                                                 'shippedDate', 'shipVia', 'freight', 'shipName', 'shipAddress', 'shipCity',\n",
    "                                                 'shipRegion', 'shipPostalCode', 'shipCountry'])\n",
    "    print(df_restored)\n",
    "    \n",
    "elif file == 'products':\n",
    "    for row in df_raw.itertuples():\n",
    "        df_row = Products(row)\n",
    "        result.append((df_row.get_product_id(), df_row.get_product_name(), df_row.get_supplier_id(), df_row.get_category_id(),\n",
    "                      df_row.get_quantityPerUnit(), df_row.get_unit_price(), df_row.get_units_in_stock(),\n",
    "                      df_row.get_units_on_order(), df_row.get_reorder_level(), df_row.get_discontinued()))\n",
    "    df_restored = pd.DataFrame(result, columns = ['productID', 'productName', 'supplierID', 'categoryID', 'quantityPerUnit',\n",
    "                                                 'unitPrice', 'unitsInStock', 'unitsOnOrder', 'reorderLevel', 'getDictontinued'])\n",
    "    print(df_restored)\n",
    "    \n",
    "elif file == 'regions':\n",
    "    for row in df_raw.itertuples():\n",
    "        df_row = Regions(row)\n",
    "        result.append((df_row.get_region_id(), df_row.get_region_description()))\n",
    "    df_restored = pd.DataFrame(result, columns = ['regionID', 'regionDescription'])\n",
    "    print(df_restored)\n",
    "    \n",
    "elif file == 'shippers':\n",
    "    for row in df_raw.itertuples():\n",
    "        df_row = Shippers(row)\n",
    "        result.append((df_row.get_shipper_id(), df_row.get_company_name(), df_row.get_phone()))\n",
    "    df_restored = pd.DataFrame(result, columns = ['shipperID', 'companyName', 'phone'])\n",
    "    print(df_restored)\n",
    "\n",
    "elif file == 'suppliers':\n",
    "    for row in df_raw.itertuples():\n",
    "        df_row = Suppliers(row)\n",
    "        result.append((df_row.get_supplier_id(), df_row.get_company_name(), df_row.get_contact_name(), \n",
    "                      df_row.get_contact_title(), df_row.get_address(), df_row.get_city(), df_row.get_region(),\n",
    "                      df_row.get_postal_code(), df_row.get_country(), df_row.get_phone(), df_row.get_fax(), df_row.get_home_page()))\n",
    "    df_restored = pd.DataFrame(result, columns = ['supplierID', 'companyName', 'contactName', 'contactTitle', 'address',\n",
    "                                                 'city', 'region', 'postalCode', 'country', 'phone', 'fax', 'homePage'])\n",
    "    print(df_restored)\n",
    "    \n",
    "elif file == 'territories':\n",
    "    for row in df_raw.itertuples():\n",
    "        df_row = Territories(row)\n",
    "        result.append((df_row.get_territoryID(), df_row.get_territory_description(), df_row.get_region_id()))\n",
    "    df_restored = pd.DataFrame(result, columns = ['territoryID', 'territoryDescription', 'regionID'])\n",
    "    print(df_restored)\n",
    "\n",
    "else:\n",
    "    print('File is not implemented')"
   ]
  },
  {
   "cell_type": "markdown",
   "metadata": {},
   "source": [
    "3. Loading from raw to standarised"
   ]
  },
  {
   "cell_type": "code",
   "execution_count": 5,
   "metadata": {},
   "outputs": [
    {
     "ename": "NameError",
     "evalue": "name 'df_raw' is not defined",
     "output_type": "error",
     "traceback": [
      "\u001b[1;31m---------------------------------------------------------------------------\u001b[0m",
      "\u001b[1;31mNameError\u001b[0m                                 Traceback (most recent call last)",
      "Cell \u001b[1;32mIn [5], line 1\u001b[0m\n\u001b[1;32m----> 1\u001b[0m df_raw\u001b[39m.\u001b[39mto_excel(path_standarised, index \u001b[39m=\u001b[39m \u001b[39mFalse\u001b[39;00m, sheet_name \u001b[39m=\u001b[39m file)\n",
      "\u001b[1;31mNameError\u001b[0m: name 'df_raw' is not defined"
     ]
    }
   ],
   "source": [
    "df_raw.to_excel(path_standarised, index = False, sheet_name = file)"
   ]
  },
  {
   "cell_type": "markdown",
   "metadata": {},
   "source": [
    "END"
   ]
  }
 ],
 "metadata": {
  "kernelspec": {
   "display_name": "Python 3 (ipykernel)",
   "language": "python",
   "name": "python3"
  },
  "language_info": {
   "codemirror_mode": {
    "name": "ipython",
    "version": 3
   },
   "file_extension": ".py",
   "mimetype": "text/x-python",
   "name": "python",
   "nbconvert_exporter": "python",
   "pygments_lexer": "ipython3",
   "version": "3.10.8"
  },
  "vscode": {
   "interpreter": {
    "hash": "bf745b7a5c71c7a30f0769585f909cf40a0a8ad718c406df3a9be45d79e164d9"
   }
  }
 },
 "nbformat": 4,
 "nbformat_minor": 2
}
